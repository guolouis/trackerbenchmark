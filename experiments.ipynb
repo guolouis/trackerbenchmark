{
 "cells": [
  {
   "cell_type": "code",
   "execution_count": 1,
   "metadata": {},
   "outputs": [],
   "source": [
    "import cv2\n",
    "import numpy as np\n",
    "import matplotlib.pyplot as plt\n",
    "%matplotlib inline"
   ]
  },
  {
   "cell_type": "code",
   "execution_count": null,
   "metadata": {},
   "outputs": [],
   "source": [
    "def main():\n",
    "    \n",
    "    "
   ]
  },
  {
   "cell_type": "code",
   "execution_count": null,
   "metadata": {},
   "outputs": [],
   "source": [
    "def getgroundtruth(path):\n",
    "    return bbresultstolist(path)"
   ]
  },
  {
   "cell_type": "code",
   "execution_count": null,
   "metadata": {},
   "outputs": [],
   "source": [
    "def alltrackersresultstolist(path):\n",
    "    alltrackersresults = []\n",
    "    for filename in os.listdir(path):\n",
    "        alltrackersresults.append(bbresultstolist(filename))\n",
    "    return alltrackersresults        "
   ]
  },
  {
   "cell_type": "code",
   "execution_count": null,
   "metadata": {},
   "outputs": [],
   "source": [
    "def bbresultstolist(path):\n",
    "    myfile = open(path, \"r\")\n",
    "    onetrackersresult=[]\n",
    "    for line in myfile:\n",
    "        newline = line.replace(',' , ' ')\n",
    "        newline = newline.split()\n",
    "        for i in range(4):\n",
    "            newline[i] = int(float(newline[i]))\n",
    "        onetrackersresult.append(newline)\n",
    "    myfile.close()\n",
    "    return onetrackersresult"
   ]
  },
  {
   "cell_type": "code",
   "execution_count": null,
   "metadata": {},
   "outputs": [],
   "source": [
    "def metricsforonevideo(groundtruth, alltrackers):\n",
    "    listfordrawinggraphs = []\n",
    "    for trackersresults in alltrackers:\n",
    "        if (len(groundtruth != len(trackersresults))):\n",
    "            raise ValueError(\"different number of lines between groundtruth and trackers\")\n",
    "        listfordrawinggraphs.append(metrictest(groundtruth, trackersresults))\n",
    "    return listfordrawinggraphs\n",
    "        "
   ]
  },
  {
   "cell_type": "code",
   "execution_count": null,
   "metadata": {},
   "outputs": [],
   "source": [
    "def metrictest(groundTruth1, resultTracker1):\n",
    "    \n",
    "    #TODO\n",
    "    \n",
    "    return pourcentage"
   ]
  },
  {
   "cell_type": "code",
   "execution_count": 1,
   "metadata": {},
   "outputs": [
    {
     "data": {
      "text/plain": [
       "'4.5.4-dev'"
      ]
     },
     "execution_count": 1,
     "metadata": {},
     "output_type": "execute_result"
    }
   ],
   "source": [
    "import cv2\n",
    "cv2.__version__"
   ]
  },
  {
   "cell_type": "code",
   "execution_count": null,
   "metadata": {},
   "outputs": [],
   "source": [
    "def drawGraphTables(isGraph, isTable, listfordrawinggraphs)"
   ]
  }
 ],
 "metadata": {
  "kernelspec": {
   "display_name": "Python 3",
   "language": "python",
   "name": "python3"
  },
  "language_info": {
   "codemirror_mode": {
    "name": "ipython",
    "version": 3
   },
   "file_extension": ".py",
   "mimetype": "text/x-python",
   "name": "python",
   "nbconvert_exporter": "python",
   "pygments_lexer": "ipython3",
   "version": "3.8.3"
  }
 },
 "nbformat": 4,
 "nbformat_minor": 4
}
